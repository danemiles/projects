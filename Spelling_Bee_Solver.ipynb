{
  "nbformat": 4,
  "nbformat_minor": 0,
  "metadata": {
    "colab": {
      "provenance": [],
      "authorship_tag": "ABX9TyMFOWBshBAiz56gXhwsw0kh",
      "include_colab_link": true
    },
    "kernelspec": {
      "name": "python3",
      "display_name": "Python 3"
    },
    "language_info": {
      "name": "python"
    }
  },
  "cells": [
    {
      "cell_type": "markdown",
      "metadata": {
        "id": "view-in-github",
        "colab_type": "text"
      },
      "source": [
        "<a href=\"https://colab.research.google.com/github/danemiles/projects/blob/main/Spelling_Bee_Solver.ipynb\" target=\"_parent\"><img src=\"https://colab.research.google.com/assets/colab-badge.svg\" alt=\"Open In Colab\"/></a>"
      ]
    },
    {
      "cell_type": "markdown",
      "source": [
        "Spelling Bee -- Find Words For Given List"
      ],
      "metadata": {
        "id": "UW437HcQA_Wl"
      }
    },
    {
      "cell_type": "code",
      "source": [
        "# enter all spelling bee letters below\n",
        "letters = 'floping'\n",
        "l_1 = letters[0]\n",
        "l_2 = letters[1]\n",
        "l_3 = letters[2]\n",
        "l_4 = letters[3]\n",
        "l_5 = letters[4]\n",
        "l_6 = letters[5]\n",
        "l_7 = letters[6]\n",
        "yellow = letters[0]"
      ],
      "metadata": {
        "id": "twcBukn3BZf8"
      },
      "execution_count": null,
      "outputs": []
    },
    {
      "cell_type": "code",
      "source": [
        "%pip install english-words\n",
        "#%pip install pandasql"
      ],
      "metadata": {
        "colab": {
          "base_uri": "https://localhost:8080/"
        },
        "id": "47QudavbBEr1",
        "outputId": "c45dc771-1628-46de-8a30-8a44abfbfd30"
      },
      "execution_count": null,
      "outputs": [
        {
          "output_type": "stream",
          "name": "stdout",
          "text": [
            "Collecting english-words\n",
            "  Downloading english-words-2.0.1.tar.gz (8.2 MB)\n",
            "\u001b[?25l     \u001b[90m━━━━━━━━━━━━━━━━━━━━━━━━━━━━━━━━━━━━━━━━\u001b[0m \u001b[32m0.0/8.2 MB\u001b[0m \u001b[31m?\u001b[0m eta \u001b[36m-:--:--\u001b[0m\r\u001b[2K     \u001b[91m━━━━━━\u001b[0m\u001b[91m╸\u001b[0m\u001b[90m━━━━━━━━━━━━━━━━━━━━━━━━━━━━━━━━━\u001b[0m \u001b[32m1.4/8.2 MB\u001b[0m \u001b[31m39.9 MB/s\u001b[0m eta \u001b[36m0:00:01\u001b[0m\r\u001b[2K     \u001b[91m━━━━━━━━━━━━━━━━━━━━━━━━\u001b[0m\u001b[91m╸\u001b[0m\u001b[90m━━━━━━━━━━━━━━━\u001b[0m \u001b[32m5.0/8.2 MB\u001b[0m \u001b[31m70.9 MB/s\u001b[0m eta \u001b[36m0:00:01\u001b[0m\r\u001b[2K     \u001b[91m━━━━━━━━━━━━━━━━━━━━━━━━━━━━━━━━━━━━━━━\u001b[0m\u001b[91m╸\u001b[0m \u001b[32m8.2/8.2 MB\u001b[0m \u001b[31m78.9 MB/s\u001b[0m eta \u001b[36m0:00:01\u001b[0m\r\u001b[2K     \u001b[90m━━━━━━━━━━━━━━━━━━━━━━━━━━━━━━━━━━━━━━━━\u001b[0m \u001b[32m8.2/8.2 MB\u001b[0m \u001b[31m59.0 MB/s\u001b[0m eta \u001b[36m0:00:00\u001b[0m\n",
            "\u001b[?25h  Installing build dependencies ... \u001b[?25l\u001b[?25hdone\n",
            "  Getting requirements to build wheel ... \u001b[?25l\u001b[?25hdone\n",
            "  Preparing metadata (pyproject.toml) ... \u001b[?25l\u001b[?25hdone\n",
            "Building wheels for collected packages: english-words\n",
            "  Building wheel for english-words (pyproject.toml) ... \u001b[?25l\u001b[?25hdone\n",
            "  Created wheel for english-words: filename=english_words-2.0.1-py3-none-any.whl size=8196238 sha256=8e7926a78236c820767d3a990bd4240c99005fe08c2ccb5e33e7ba92afbe1440\n",
            "  Stored in directory: /root/.cache/pip/wheels/f0/e6/d9/16a123647999fe535f03a36e7af23eef203736d84c7ca25b0b\n",
            "Successfully built english-words\n",
            "Installing collected packages: english-words\n",
            "Successfully installed english-words-2.0.1\n"
          ]
        }
      ]
    },
    {
      "cell_type": "code",
      "source": [
        "from english_words import get_english_words_set\n",
        "web2lowerset = get_english_words_set(['web2'], lower=True)\n",
        "\n",
        "import pandas as pd\n",
        "import numpy as np\n",
        "#from pandasql import sqldf\n",
        "#from sklearn import datasets\n",
        "import string"
      ],
      "metadata": {
        "id": "0cnKpMfMBM-s"
      },
      "execution_count": null,
      "outputs": []
    },
    {
      "cell_type": "code",
      "source": [
        "words = list(web2lowerset)\n",
        "\n",
        "df = pd.DataFrame(words)\n",
        "\n",
        "df.head()"
      ],
      "metadata": {
        "colab": {
          "base_uri": "https://localhost:8080/",
          "height": 204
        },
        "id": "22Fim4kDBWpY",
        "outputId": "de4627e2-3166-4b3c-9198-7642a8ce634f"
      },
      "execution_count": null,
      "outputs": [
        {
          "output_type": "execute_result",
          "data": {
            "text/plain": [
              "                0\n",
              "0      telergical\n",
              "1       tricenary\n",
              "2         burnous\n",
              "3  undernourished\n",
              "4          damped"
            ],
            "text/html": [
              "\n",
              "  <div id=\"df-3d68f610-0f64-450d-9e87-2a0e101cae47\">\n",
              "    <div class=\"colab-df-container\">\n",
              "      <div>\n",
              "<style scoped>\n",
              "    .dataframe tbody tr th:only-of-type {\n",
              "        vertical-align: middle;\n",
              "    }\n",
              "\n",
              "    .dataframe tbody tr th {\n",
              "        vertical-align: top;\n",
              "    }\n",
              "\n",
              "    .dataframe thead th {\n",
              "        text-align: right;\n",
              "    }\n",
              "</style>\n",
              "<table border=\"1\" class=\"dataframe\">\n",
              "  <thead>\n",
              "    <tr style=\"text-align: right;\">\n",
              "      <th></th>\n",
              "      <th>0</th>\n",
              "    </tr>\n",
              "  </thead>\n",
              "  <tbody>\n",
              "    <tr>\n",
              "      <th>0</th>\n",
              "      <td>telergical</td>\n",
              "    </tr>\n",
              "    <tr>\n",
              "      <th>1</th>\n",
              "      <td>tricenary</td>\n",
              "    </tr>\n",
              "    <tr>\n",
              "      <th>2</th>\n",
              "      <td>burnous</td>\n",
              "    </tr>\n",
              "    <tr>\n",
              "      <th>3</th>\n",
              "      <td>undernourished</td>\n",
              "    </tr>\n",
              "    <tr>\n",
              "      <th>4</th>\n",
              "      <td>damped</td>\n",
              "    </tr>\n",
              "  </tbody>\n",
              "</table>\n",
              "</div>\n",
              "      <button class=\"colab-df-convert\" onclick=\"convertToInteractive('df-3d68f610-0f64-450d-9e87-2a0e101cae47')\"\n",
              "              title=\"Convert this dataframe to an interactive table.\"\n",
              "              style=\"display:none;\">\n",
              "        \n",
              "  <svg xmlns=\"http://www.w3.org/2000/svg\" height=\"24px\"viewBox=\"0 0 24 24\"\n",
              "       width=\"24px\">\n",
              "    <path d=\"M0 0h24v24H0V0z\" fill=\"none\"/>\n",
              "    <path d=\"M18.56 5.44l.94 2.06.94-2.06 2.06-.94-2.06-.94-.94-2.06-.94 2.06-2.06.94zm-11 1L8.5 8.5l.94-2.06 2.06-.94-2.06-.94L8.5 2.5l-.94 2.06-2.06.94zm10 10l.94 2.06.94-2.06 2.06-.94-2.06-.94-.94-2.06-.94 2.06-2.06.94z\"/><path d=\"M17.41 7.96l-1.37-1.37c-.4-.4-.92-.59-1.43-.59-.52 0-1.04.2-1.43.59L10.3 9.45l-7.72 7.72c-.78.78-.78 2.05 0 2.83L4 21.41c.39.39.9.59 1.41.59.51 0 1.02-.2 1.41-.59l7.78-7.78 2.81-2.81c.8-.78.8-2.07 0-2.86zM5.41 20L4 18.59l7.72-7.72 1.47 1.35L5.41 20z\"/>\n",
              "  </svg>\n",
              "      </button>\n",
              "      \n",
              "  <style>\n",
              "    .colab-df-container {\n",
              "      display:flex;\n",
              "      flex-wrap:wrap;\n",
              "      gap: 12px;\n",
              "    }\n",
              "\n",
              "    .colab-df-convert {\n",
              "      background-color: #E8F0FE;\n",
              "      border: none;\n",
              "      border-radius: 50%;\n",
              "      cursor: pointer;\n",
              "      display: none;\n",
              "      fill: #1967D2;\n",
              "      height: 32px;\n",
              "      padding: 0 0 0 0;\n",
              "      width: 32px;\n",
              "    }\n",
              "\n",
              "    .colab-df-convert:hover {\n",
              "      background-color: #E2EBFA;\n",
              "      box-shadow: 0px 1px 2px rgba(60, 64, 67, 0.3), 0px 1px 3px 1px rgba(60, 64, 67, 0.15);\n",
              "      fill: #174EA6;\n",
              "    }\n",
              "\n",
              "    [theme=dark] .colab-df-convert {\n",
              "      background-color: #3B4455;\n",
              "      fill: #D2E3FC;\n",
              "    }\n",
              "\n",
              "    [theme=dark] .colab-df-convert:hover {\n",
              "      background-color: #434B5C;\n",
              "      box-shadow: 0px 1px 3px 1px rgba(0, 0, 0, 0.15);\n",
              "      filter: drop-shadow(0px 1px 2px rgba(0, 0, 0, 0.3));\n",
              "      fill: #FFFFFF;\n",
              "    }\n",
              "  </style>\n",
              "\n",
              "      <script>\n",
              "        const buttonEl =\n",
              "          document.querySelector('#df-3d68f610-0f64-450d-9e87-2a0e101cae47 button.colab-df-convert');\n",
              "        buttonEl.style.display =\n",
              "          google.colab.kernel.accessAllowed ? 'block' : 'none';\n",
              "\n",
              "        async function convertToInteractive(key) {\n",
              "          const element = document.querySelector('#df-3d68f610-0f64-450d-9e87-2a0e101cae47');\n",
              "          const dataTable =\n",
              "            await google.colab.kernel.invokeFunction('convertToInteractive',\n",
              "                                                     [key], {});\n",
              "          if (!dataTable) return;\n",
              "\n",
              "          const docLinkHtml = 'Like what you see? Visit the ' +\n",
              "            '<a target=\"_blank\" href=https://colab.research.google.com/notebooks/data_table.ipynb>data table notebook</a>'\n",
              "            + ' to learn more about interactive tables.';\n",
              "          element.innerHTML = '';\n",
              "          dataTable['output_type'] = 'display_data';\n",
              "          await google.colab.output.renderOutput(dataTable, element);\n",
              "          const docLink = document.createElement('div');\n",
              "          docLink.innerHTML = docLinkHtml;\n",
              "          element.appendChild(docLink);\n",
              "        }\n",
              "      </script>\n",
              "    </div>\n",
              "  </div>\n",
              "  "
            ]
          },
          "metadata": {},
          "execution_count": 4
        }
      ]
    },
    {
      "cell_type": "markdown",
      "source": [
        "**A new approach**"
      ],
      "metadata": {
        "id": "N7Xfe3pMMyaa"
      }
    },
    {
      "cell_type": "code",
      "source": [
        "# source: https://scipython.com/blog/new-york-times-spelling-bee-solver/\n",
        "# word_df = pd.DataFrame()\n",
        "valid_words = []\n",
        "\n",
        "def solve(chars, min_len = 4):\n",
        "  \"\"\"SPELLING BEE SOLVER\n",
        "  Enter letters, beginning with central (yellow) letter.\n",
        "  \"\"\"\n",
        "  # yellow is defined as letter[0]\n",
        "  letter_set = set(letters)\n",
        "\n",
        "  valid_words = []\n",
        "  for i in words:\n",
        "    if len(i) < min_len:\n",
        "      continue\n",
        "    if yellow not in i:\n",
        "      continue\n",
        "    if set(i).issubset(letter_set):\n",
        "      valid_words.append(i)\n",
        "  print(f'{len(valid_words)} matching words found:')\n",
        "\n",
        "  # for valid_word in sorted(valid_words, key=lambda word: (len(word), word)):\n",
        "    # print(valid_word) # uncomment if words need to be printed to console\n",
        "  return valid_words\n",
        "\n",
        "\n",
        "\n",
        "letters_str = str(letters)\n",
        "wdf = pd.DataFrame(solve(letters_str)) # save df\n",
        "wdf = wdf.rename(columns={0: \"Words\"}) # rename column\n",
        "wdf['Words'] = wdf['Words'].str.upper() # upper all results\n",
        "\n",
        "\n"
      ],
      "metadata": {
        "colab": {
          "base_uri": "https://localhost:8080/"
        },
        "id": "ElU4Zs4SM0Ye",
        "outputId": "01b79cb2-f7cd-4cf9-f121-bc1c9ca8b596"
      },
      "execution_count": null,
      "outputs": [
        {
          "output_type": "stream",
          "name": "stdout",
          "text": [
            "44 matching words found:\n"
          ]
        }
      ]
    },
    {
      "cell_type": "code",
      "source": [
        "print(wdf)"
      ],
      "metadata": {
        "colab": {
          "base_uri": "https://localhost:8080/"
        },
        "id": "aGm0rx03YIRo",
        "outputId": "e1f24393-646d-41e4-ee67-6723d42bb0e3"
      },
      "execution_count": null,
      "outputs": [
        {
          "output_type": "stream",
          "name": "stdout",
          "text": [
            "        Words\n",
            "0        FINN\n",
            "1    FILIPINO\n",
            "2    OFFGOING\n",
            "3     FILLING\n",
            "4     FOILING\n",
            "5     FOINING\n",
            "6      INFILL\n",
            "7    GLIFFING\n",
            "8        POOF\n",
            "9        FILL\n",
            "10      FOGON\n",
            "11       FONO\n",
            "12     FINNIP\n",
            "13     FILING\n",
            "14    FOOLING\n",
            "15      FLONG\n",
            "16       FOOL\n",
            "17    LONGFIN\n",
            "18       FOGO\n",
            "19     FINING\n",
            "20       FOIL\n",
            "21       GOFF\n",
            "22       FLOG\n",
            "23       OLOF\n",
            "24       FLIP\n",
            "25       GOLF\n",
            "26    NIFLING\n",
            "27       FILO\n",
            "28       FIFO\n",
            "29     FILLIP\n",
            "30      GLIFF\n",
            "31       GOOF\n",
            "32       LIFO\n",
            "33       PIFF\n",
            "34    FILIPPO\n",
            "35    FOPLING\n",
            "36   FLOGGING\n",
            "37       LOOF\n",
            "38       FLOP\n",
            "39     OFFING\n",
            "40      FLING\n",
            "41      FOLIO\n",
            "42    FIGGING\n",
            "43  INFILLING\n"
          ]
        }
      ]
    }
  ]
}