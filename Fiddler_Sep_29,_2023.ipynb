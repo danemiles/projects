{
  "nbformat": 4,
  "nbformat_minor": 0,
  "metadata": {
    "colab": {
      "provenance": [],
      "authorship_tag": "ABX9TyMisuxeLvd0mCruxnWmD7rk",
      "include_colab_link": true
    },
    "kernelspec": {
      "name": "python3",
      "display_name": "Python 3"
    },
    "language_info": {
      "name": "python"
    }
  },
  "cells": [
    {
      "cell_type": "markdown",
      "metadata": {
        "id": "view-in-github",
        "colab_type": "text"
      },
      "source": [
        "<a href=\"https://colab.research.google.com/github/danemiles/projects/blob/main/Fiddler_Sep_29%2C_2023.ipynb\" target=\"_parent\"><img src=\"https://colab.research.google.com/assets/colab-badge.svg\" alt=\"Open In Colab\"/></a>"
      ]
    },
    {
      "cell_type": "markdown",
      "source": [
        "\n",
        "# **This Week’s Fiddler**\n",
        "\n",
        "From Bowen Kerins comes a puzzle about pinball:\n",
        "\n",
        "You’re playing a game of pinball that includes four lanes, each of which is initially unlit. Every time you flip the pinball, it passes through exactly one of the four lanes and toggles that lane’s state. So if that lane is unlit, it becomes lit after the ball passes through. But if the lane is lit, it becomes unlit after the ball passes through.\n",
        "\n",
        "On average, how many times will you have to flip the pinball until all four lanes are lit?"
      ],
      "metadata": {
        "id": "F0Ke7AHVe0as"
      }
    },
    {
      "cell_type": "code",
      "source": [
        "# BACKGROUND ASSUMPTIONS:\n",
        "# 1. You cannot \"aim\" for a lane. I.e. all lanes have equal probability of\n",
        "#    being passed through.\n",
        "# 2. Due to above, a lane is always at risk of being unlit.\n",
        "# 3. You can only flip one lane per flip. I.e. you cannot flip,\n",
        "#    the ball passes through a lane, the ball falls back passing through a\n",
        "#    lane again, and finally returns to the flipper(s).\n",
        "\n",
        "# ----------------------------------------------------\n",
        "# import needed packages\n",
        "import numpy as np\n",
        "import pandas as pd\n",
        "import random\n",
        "\n",
        "# EDITABLE VARIABLES:\n",
        "lane_count_values = np.arange(1,10) # range of individual lanes to test for\n",
        "N = 100000  # Number of simulations\n",
        "\n",
        "# ----------------------------------------------------\n",
        "\n",
        "def flip(count, lanes):\n",
        "  light_count = count\n",
        "  lanes = lanes\n",
        "  change = random.randint(0,light_count-1)\n",
        "  if lanes[change] == 0:\n",
        "    lanes[change] = 1\n",
        "  else:\n",
        "    lanes[change] == 0\n",
        "  return lanes\n",
        "\n"
      ],
      "metadata": {
        "id": "BiHX4AhyzYKb"
      },
      "execution_count": 119,
      "outputs": []
    },
    {
      "cell_type": "code",
      "source": [
        "# cool, this works like intended.\n",
        "# let's add a second recursive function to save the result, run until solved, and write results to Pandas\n",
        "\n",
        "def run_until_all_lit(count):\n",
        "    lights = [0] * count\n",
        "    flips = 0\n",
        "\n",
        "    while sum(lights) < count:\n",
        "        lights = flip(count, lights)\n",
        "        flips += 1\n",
        "\n",
        "    return flips\n",
        "\n",
        "def simulate_game_N_times(N, count):\n",
        "    total_flips = 0\n",
        "\n",
        "    for _ in range(N):\n",
        "        flips_needed = run_until_all_lit(count)\n",
        "        total_flips += flips_needed\n",
        "\n",
        "    average_flips = total_flips / N\n",
        "    return average_flips\n",
        "\n",
        "dfs = []\n",
        "\n",
        "for count in lane_count_values:\n",
        "    average_flips = simulate_game_N_times(N, count)\n",
        "    df = pd.DataFrame({'Lane Count': [count], 'Average Flips': [average_flips]})\n",
        "    dfs.append(df)\n",
        "\n",
        "results_df = pd.concat(dfs, ignore_index=True)\n",
        "\n",
        "results_df['Ratio'] = results_df['Average Flips'].shift(-1) / results_df['Average Flips']\n",
        "\n",
        "# Print the DataFrame\n",
        "print(results_df)"
      ],
      "metadata": {
        "colab": {
          "base_uri": "https://localhost:8080/"
        },
        "id": "a2QLVO5l1cKJ",
        "outputId": "cf3a40a4-9607-46df-d68a-648e067248e4"
      },
      "execution_count": 120,
      "outputs": [
        {
          "output_type": "stream",
          "name": "stdout",
          "text": [
            "   Lane Count  Average Flips     Ratio\n",
            "0           1        1.00000  3.007890\n",
            "1           2        3.00789  1.830243\n",
            "2           3        5.50517  1.515790\n",
            "3           4        8.34468  1.370589\n",
            "4           5       11.43713  1.287463\n",
            "5           6       14.72488  1.234595\n",
            "6           7       18.17927  1.195793\n",
            "7           8       21.73864  1.171648\n",
            "8           9       25.47004       NaN\n"
          ]
        }
      ]
    },
    {
      "cell_type": "markdown",
      "source": [
        "### *UPSHOT: It will take approximately 8.34 flips to light all 4-lanes when the initial state is all unlit.*"
      ],
      "metadata": {
        "id": "GQaYEh4tO7KK"
      }
    },
    {
      "cell_type": "markdown",
      "source": [
        "---\n",
        "# **Extra Credit**\n",
        "\n",
        "Instead of four lanes, now suppose your pinball game has N lanes. And let’s say that E(N) represents the average number of pinball flips it takes until all N lanes are lit up.\n",
        "\n",
        "Now, each time you increase the number of lanes by one, you find that it takes you approximately twice as long to light up all the lanes. In other words, E(N+1) seems to be about double E(N).\n",
        "\n",
        "But upon closer examination, you find that it’s not quite double. Moreover, there’s a particular value of N where the ratio E(N+1)/E(N) is at a minimum. What is this value of N?"
      ],
      "metadata": {
        "id": "mKHVSuidfAz4"
      }
    },
    {
      "cell_type": "markdown",
      "source": [
        "### *This is a bit trickier. At high values of N, recursion becomes impractical due to compute time. However, there does appear to be a tapering off, perhaps minimizing near E(N+1)/E(N) =1. Without a precise mathematical function / formula, I do not have a method to solve.*"
      ],
      "metadata": {
        "id": "L-c8zLuWQd26"
      }
    }
  ]
}